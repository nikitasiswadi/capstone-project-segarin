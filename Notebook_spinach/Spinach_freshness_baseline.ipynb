{
 "cells": [
  {
   "cell_type": "code",
   "execution_count": 1,
   "id": "09815878",
   "metadata": {
    "execution": {
     "iopub.execute_input": "2023-05-03T04:37:00.203474Z",
     "iopub.status.busy": "2023-05-03T04:37:00.203208Z",
     "iopub.status.idle": "2023-05-03T04:37:00.210385Z",
     "shell.execute_reply": "2023-05-03T04:37:00.209465Z"
    },
    "papermill": {
     "duration": 0.015355,
     "end_time": "2023-05-03T04:37:00.212381",
     "exception": false,
     "start_time": "2023-05-03T04:37:00.197026",
     "status": "completed"
    },
    "tags": []
   },
   "outputs": [
    {
     "name": "stdout",
     "output_type": "stream",
     "text": [
      "['fresh_spinach(1).jpeg', 'fresh_spinach(1).jpg', 'fresh_spinach(10).jpeg', 'fresh_spinach(10).jpg', 'fresh_spinach(11).jpeg', 'fresh_spinach(11).jpg', 'fresh_spinach(12).jpeg', 'fresh_spinach(12).jpg', 'fresh_spinach(13).jpeg', 'fresh_spinach(13).jpg']\n",
      "['IMG-0467-1.jpeg', 'IMG_1334.jpeg', 'IMG_1950.jpeg', 'IMG_2413.jpeg', 'IMG_3054.jpeg', 'IMG_3882-1.jpeg', 'IMG_6465-680x510.jpeg', 'Japanese+indigo+leaves.jpeg', 'Palak-nu-shaak-steps-1_01.jpeg', 'PhotoDraw254137.jpeg']\n"
     ]
    }
   ],
   "source": [
    "#import numpy as np # linear algebra\n",
    "#import pandas as pd # data processing, CSV file I/O (e.g. pd.read_csv)\n",
    "\n",
    "# Input data files are available in the read-only \"../input/\" directory\n",
    "# For example, running this (by clicking run or pressing Shift+Enter) will list all files under the input directory\n",
    "\n",
    "import os\n",
    "import zipfile\n",
    "import shutil\n",
    "#from tensorflow.keras.applications.inception_v3 import InceptionV3\n",
    "\n",
    "train_dir = 'split_0.2/train_dir/'\n",
    "validation_dir = 'split_0.2/validation_dir/'\n",
    "\n",
    "train_fresh_spinachs_dir = train_dir +'Fresh' #'train_dir/Fresh'\n",
    "train_spinachs_n_fresh_dir = train_dir +'Not_fresh'#'train_dir/Not_fresh'\n",
    "validation_fresh_spinachs_dir = validation_dir +'Fresh'#'validation_dir/Fresh'\n",
    "validation_spinachs_n_fresh_dir = validation_dir +'Not_fresh'#'validation_dir/Not_fresh'\n",
    "\n",
    "train_cat_fnames = os.listdir(train_fresh_spinachs_dir)\n",
    "print(train_cat_fnames[:10])\n",
    "\n",
    "train_dog_fnames = os.listdir(train_spinachs_n_fresh_dir)\n",
    "train_dog_fnames.sort()\n",
    "print(train_dog_fnames[:10])"
   ]
  },
  {
   "cell_type": "code",
   "execution_count": 2,
   "id": "d881053e",
   "metadata": {
    "execution": {
     "iopub.execute_input": "2023-05-03T04:37:00.223674Z",
     "iopub.status.busy": "2023-05-03T04:37:00.223416Z",
     "iopub.status.idle": "2023-05-03T04:37:00.231836Z",
     "shell.execute_reply": "2023-05-03T04:37:00.231037Z"
    },
    "papermill": {
     "duration": 0.016218,
     "end_time": "2023-05-03T04:37:00.233638",
     "exception": false,
     "start_time": "2023-05-03T04:37:00.217420",
     "status": "completed"
    },
    "tags": []
   },
   "outputs": [
    {
     "name": "stdout",
     "output_type": "stream",
     "text": [
      "total training fresh spinach images: 120\n",
      "total training spinach not fresh images: 120\n",
      "total validation fresh spinach images: 30\n",
      "total validation spinach not fresh images: 30\n"
     ]
    }
   ],
   "source": [
    "print('total training fresh spinach images:', len(os.listdir(train_fresh_spinachs_dir)))\n",
    "print('total training spinach not fresh images:', len(os.listdir(train_spinachs_n_fresh_dir)))\n",
    "print('total validation fresh spinach images:', len(os.listdir(validation_fresh_spinachs_dir)))\n",
    "print('total validation spinach not fresh images:', len(os.listdir(validation_spinachs_n_fresh_dir)))"
   ]
  },
  {
   "cell_type": "markdown",
   "id": "5deb7a9b",
   "metadata": {
    "papermill": {
     "duration": 0.004922,
     "end_time": "2023-05-03T04:37:00.243646",
     "exception": false,
     "start_time": "2023-05-03T04:37:00.238724",
     "status": "completed"
    },
    "tags": []
   },
   "source": [
    " For both cats and dogs, i limited the size for  2000 training images and 1000 test images."
   ]
  },
  {
   "cell_type": "markdown",
   "id": "a88d6481",
   "metadata": {
    "papermill": {
     "duration": 0.005254,
     "end_time": "2023-05-03T04:37:00.254013",
     "exception": false,
     "start_time": "2023-05-03T04:37:00.248759",
     "status": "completed"
    },
    "tags": []
   },
   "source": [
    "## Data Augmentation"
   ]
  },
  {
   "cell_type": "code",
   "execution_count": 3,
   "id": "bb065058",
   "metadata": {},
   "outputs": [
    {
     "name": "stdout",
     "output_type": "stream",
     "text": [
      "['Fresh', 'Not_fresh']\n"
     ]
    },
    {
     "data": {
      "text/plain": [
       "2"
      ]
     },
     "execution_count": 3,
     "metadata": {},
     "output_type": "execute_result"
    }
   ],
   "source": [
    "#train_dir = 'train_dir_0.2/'\n",
    "class_names = os.listdir(train_dir)\n",
    "num_class = len(class_names)\n",
    "print(class_names)\n",
    "num_class"
   ]
  },
  {
   "cell_type": "code",
   "execution_count": 4,
   "id": "43286ab2",
   "metadata": {},
   "outputs": [
    {
     "name": "stdout",
     "output_type": "stream",
     "text": [
      "['Fresh', 'Not_fresh']\n"
     ]
    },
    {
     "data": {
      "text/plain": [
       "2"
      ]
     },
     "execution_count": 4,
     "metadata": {},
     "output_type": "execute_result"
    }
   ],
   "source": [
    "#validation_dir = 'validation_dir_0.2/'\n",
    "class_names = os.listdir(validation_dir)\n",
    "num_class = len(class_names)\n",
    "print(class_names)\n",
    "num_class"
   ]
  },
  {
   "cell_type": "code",
   "execution_count": 5,
   "id": "b863acc3",
   "metadata": {},
   "outputs": [
    {
     "name": "stdout",
     "output_type": "stream",
     "text": [
      "Found 240 images belonging to 2 classes.\n",
      "Found 60 images belonging to 2 classes.\n"
     ]
    }
   ],
   "source": [
    "from tensorflow.keras.preprocessing.image import ImageDataGenerator\n",
    "\n",
    "# Adding rescale, rotation_range, width_shift_range, height_shift_range,\n",
    "# shear_range, zoom_range, and horizontal flip to our ImageDataGenerator\n",
    "\n",
    "### START CODE HERE\n",
    "\n",
    "  # Instantiate the ImageDataGenerator class (don't forget to set the rescale argument)\n",
    "#train_datagen = ImageDataGenerator(rescale = 1./255.)\n",
    "#train_datagen = ImageDataGenerator(rescale=1./255.)\n",
    "train_datagen = ImageDataGenerator(rescale=1./255.,\n",
    "                                   shear_range=0.2,\n",
    "                                   zoom_range=0.2,\n",
    "                                   horizontal_flip=True)\n",
    "\n",
    "  # Pass in the appropriate arguments to the flow_from_directory method\n",
    "train_generator = train_datagen.flow_from_directory(directory=train_dir,\n",
    "                                                      batch_size=45,\n",
    "                                                      class_mode='categorical',\n",
    "                                                      #class_mode='binary',\n",
    "                                                      target_size=(150, 150))\n",
    "\n",
    "  # Instantiate the ImageDataGenerator class (don't forget to set the rescale argument)\n",
    "validation_datagen = ImageDataGenerator(rescale = 1./255.)\n",
    "\n",
    "  # Pass in the appropriate arguments to the flow_from_directory method\n",
    "validation_generator = validation_datagen.flow_from_directory(directory=validation_dir,\n",
    "                                                                batch_size=5,\n",
    "                                                                class_mode='categorical',\n",
    "                                                                #class_mode='binary',\n",
    "                                                                target_size=(150, 150))\n",
    "  ### END CODE HERE"
   ]
  },
  {
   "cell_type": "markdown",
   "id": "2d4db310",
   "metadata": {
    "papermill": {
     "duration": 0.005282,
     "end_time": "2023-05-03T04:37:06.875411",
     "exception": false,
     "start_time": "2023-05-03T04:37:06.870129",
     "status": "completed"
    },
    "tags": []
   },
   "source": [
    "## Adding Dropout"
   ]
  },
  {
   "cell_type": "code",
   "execution_count": 6,
   "id": "c84ced85",
   "metadata": {},
   "outputs": [],
   "source": [
    "from tensorflow.keras.callbacks import Callback\n",
    "\n",
    "#creates a custom callback class\n",
    "class CustomCallback(Callback):\n",
    "    \"\"\"\n",
    "    This callback will stop the model from training once the model reaches 95% accuracy on the training data\n",
    "    \"\"\"\n",
    "    def on_epoch_end(self, epoch, logs={}):\n",
    "        if logs.get('accuracy') > 0.95:\n",
    "            print('Accuracy above 95% -- Stopping Training')\n",
    "            self.model.stop_training = True #stops model training\n",
    "\n",
    "callbacks = CustomCallback()"
   ]
  },
  {
   "cell_type": "code",
   "execution_count": 7,
   "id": "6b4f9277",
   "metadata": {
    "execution": {
     "iopub.execute_input": "2023-05-03T04:37:06.887252Z",
     "iopub.status.busy": "2023-05-03T04:37:06.886988Z",
     "iopub.status.idle": "2023-05-03T04:37:06.891651Z",
     "shell.execute_reply": "2023-05-03T04:37:06.890841Z"
    },
    "papermill": {
     "duration": 0.012573,
     "end_time": "2023-05-03T04:37:06.893420",
     "exception": false,
     "start_time": "2023-05-03T04:37:06.880847",
     "status": "completed"
    },
    "tags": []
   },
   "outputs": [],
   "source": [
    "from tensorflow.keras import layers\n",
    "from tensorflow.keras import Model\n",
    "from tensorflow.keras.optimizers import RMSprop"
   ]
  },
  {
   "cell_type": "code",
   "execution_count": 8,
   "id": "8a257be9",
   "metadata": {
    "execution": {
     "iopub.execute_input": "2023-05-03T04:37:06.905478Z",
     "iopub.status.busy": "2023-05-03T04:37:06.904772Z",
     "iopub.status.idle": "2023-05-03T04:37:09.663102Z",
     "shell.execute_reply": "2023-05-03T04:37:09.662207Z"
    },
    "papermill": {
     "duration": 2.766629,
     "end_time": "2023-05-03T04:37:09.665381",
     "exception": false,
     "start_time": "2023-05-03T04:37:06.898752",
     "status": "completed"
    },
    "tags": []
   },
   "outputs": [],
   "source": [
    "import tensorflow as tf\n",
    "def create_model():\n",
    "  # DEFINE A KERAS MODEL TO CLASSIFY CATS V DOGS\n",
    "  # USE AT LEAST 3 CONVOLUTION LAYERS\n",
    "\n",
    "  ### START CODE HERE\n",
    "\n",
    "  model = tf.keras.models.Sequential([ \n",
    "      # Note the input shape is the desired size of the image 150x150 with 3 bytes color\n",
    "      #tf.keras.layers.Conv2D(16, (3,3), activation='relu', input_shape=(150, 150, 3)),\n",
    "      tf.keras.layers.Conv2D(filters=16, kernel_size=3, activation='relu', input_shape=(150, 150, 3)),\n",
    "      \n",
    "      tf.keras.layers.MaxPooling2D(2,2),\n",
    "      \n",
    "      #tf.keras.layers.Conv2D(32, (3,3), activation='relu'),\n",
    "      tf.keras.layers.Conv2D(filters=32, kernel_size=3, activation='relu'),\n",
    "      \n",
    "      tf.keras.layers.MaxPooling2D(2,2), \n",
    "      \n",
    "      #tf.keras.layers.Conv2D(64, (3,3), activation='relu'), \n",
    "      tf.keras.layers.Conv2D(filters=64, kernel_size=3, activation='relu'),\n",
    "      \n",
    "      tf.keras.layers.MaxPooling2D(2,2),\n",
    "      # Flatten the results to feed into a DNN\n",
    "      tf.keras.layers.Flatten(), \n",
    "      # 512 neuron hidden layer\n",
    "      tf.keras.layers.Dense(512, activation='relu'), \n",
    "      # Only 1 output neuron. It will contain a value from 0-1 where 0 for 1 class ('fres') and 1 for the other ('not fresh')\n",
    "      tf.keras.layers.Dense(2, activation='sigmoid'),\n",
    "  ])\n",
    "\n",
    "  \n",
    "  model.compile(optimizer=tf.keras.optimizers.RMSprop(learning_rate=0.0001),\n",
    "                #optimizer=tf.keras.optimizers.Adam(learning_rate=0.0001),\n",
    "                loss='binary_crossentropy',\n",
    "                #loss='sparse_categorical_crossentropy',\n",
    "                metrics=['accuracy'])\n",
    "    \n",
    "    \n",
    "    \n",
    "  ### END CODE HERE\n",
    "\n",
    "  return model"
   ]
  },
  {
   "cell_type": "code",
   "execution_count": 9,
   "id": "0c35e472",
   "metadata": {},
   "outputs": [],
   "source": [
    "import tensorflow as tf\n",
    "\n",
    "def create_model1():\n",
    "    model = tf.keras.Sequential([\n",
    "        tf.keras.layers.Conv2D(32, (3, 3), activation='relu', input_shape=(150, 150, 3)),\n",
    "        tf.keras.layers.MaxPooling2D(2, 2),\n",
    "        tf.keras.layers.Conv2D(64, (3, 3), activation='relu'),\n",
    "        tf.keras.layers.MaxPooling2D(2, 2),\n",
    "        tf.keras.layers.Conv2D(128, (3, 3), activation='relu'),\n",
    "        tf.keras.layers.MaxPooling2D(2, 2),\n",
    "        tf.keras.layers.Flatten(),\n",
    "        tf.keras.layers.Dense(128, activation='relu'),\n",
    "        tf.keras.layers.Dense(2, activation='sigmoid')\n",
    "    ])\n",
    "    \n",
    "    # Compile the model\n",
    "    model.compile(optimizer=tf.keras.optimizers.Adam(learning_rate=0.0001),\n",
    "              loss='binary_crossentropy',\n",
    "              metrics=['accuracy'],\n",
    "                 )\n",
    "    \n",
    "    return model"
   ]
  },
  {
   "cell_type": "markdown",
   "id": "5241618c",
   "metadata": {
    "papermill": {
     "duration": 0.005311,
     "end_time": "2023-05-03T04:37:09.676598",
     "exception": false,
     "start_time": "2023-05-03T04:37:09.671287",
     "status": "completed"
    },
    "tags": []
   },
   "source": [
    "## Training"
   ]
  },
  {
   "cell_type": "code",
   "execution_count": 10,
   "id": "21180094",
   "metadata": {},
   "outputs": [
    {
     "name": "stdout",
     "output_type": "stream",
     "text": [
      "Model: \"sequential\"\n",
      "_________________________________________________________________\n",
      " Layer (type)                Output Shape              Param #   \n",
      "=================================================================\n",
      " conv2d (Conv2D)             (None, 148, 148, 32)      896       \n",
      "                                                                 \n",
      " max_pooling2d (MaxPooling2D  (None, 74, 74, 32)       0         \n",
      " )                                                               \n",
      "                                                                 \n",
      " conv2d_1 (Conv2D)           (None, 72, 72, 64)        18496     \n",
      "                                                                 \n",
      " max_pooling2d_1 (MaxPooling  (None, 36, 36, 64)       0         \n",
      " 2D)                                                             \n",
      "                                                                 \n",
      " conv2d_2 (Conv2D)           (None, 34, 34, 128)       73856     \n",
      "                                                                 \n",
      " max_pooling2d_2 (MaxPooling  (None, 17, 17, 128)      0         \n",
      " 2D)                                                             \n",
      "                                                                 \n",
      " flatten (Flatten)           (None, 36992)             0         \n",
      "                                                                 \n",
      " dense (Dense)               (None, 128)               4735104   \n",
      "                                                                 \n",
      " dense_1 (Dense)             (None, 2)                 258       \n",
      "                                                                 \n",
      "=================================================================\n",
      "Total params: 4,828,610\n",
      "Trainable params: 4,828,610\n",
      "Non-trainable params: 0\n",
      "_________________________________________________________________\n"
     ]
    }
   ],
   "source": [
    "model = create_model1()\n",
    "model.summary()"
   ]
  },
  {
   "cell_type": "code",
   "execution_count": 11,
   "id": "ffd0d3f1",
   "metadata": {
    "execution": {
     "iopub.execute_input": "2023-05-03T04:37:09.688537Z",
     "iopub.status.busy": "2023-05-03T04:37:09.688245Z",
     "iopub.status.idle": "2023-05-03T04:49:04.664512Z",
     "shell.execute_reply": "2023-05-03T04:49:04.663578Z"
    },
    "papermill": {
     "duration": 714.984986,
     "end_time": "2023-05-03T04:49:04.666864",
     "exception": false,
     "start_time": "2023-05-03T04:37:09.681878",
     "status": "completed"
    },
    "scrolled": true,
    "tags": []
   },
   "outputs": [
    {
     "name": "stdout",
     "output_type": "stream",
     "text": [
      "Epoch 1/50\n",
      "6/6 [==============================] - 11s 2s/step - loss: 0.7077 - accuracy: 0.5000 - val_loss: 0.6846 - val_accuracy: 0.6167\n",
      "Epoch 2/50\n",
      "6/6 [==============================] - 11s 2s/step - loss: 0.6858 - accuracy: 0.6417 - val_loss: 0.6765 - val_accuracy: 0.6667\n",
      "Epoch 3/50\n",
      "6/6 [==============================] - 11s 2s/step - loss: 0.6737 - accuracy: 0.6542 - val_loss: 0.6618 - val_accuracy: 0.5000\n",
      "Epoch 4/50\n",
      "6/6 [==============================] - 11s 2s/step - loss: 0.6749 - accuracy: 0.5042 - val_loss: 0.6543 - val_accuracy: 0.5000\n",
      "Epoch 5/50\n",
      "6/6 [==============================] - 11s 2s/step - loss: 0.6497 - accuracy: 0.5917 - val_loss: 0.6416 - val_accuracy: 0.7000\n",
      "Epoch 6/50\n",
      "6/6 [==============================] - 11s 2s/step - loss: 0.6344 - accuracy: 0.5833 - val_loss: 0.6254 - val_accuracy: 0.5833\n",
      "Epoch 7/50\n",
      "6/6 [==============================] - 11s 2s/step - loss: 0.6138 - accuracy: 0.6292 - val_loss: 0.5884 - val_accuracy: 0.7333\n",
      "Epoch 8/50\n",
      "6/6 [==============================] - 11s 2s/step - loss: 0.5835 - accuracy: 0.7417 - val_loss: 0.5662 - val_accuracy: 0.7333\n",
      "Epoch 9/50\n",
      "6/6 [==============================] - 12s 2s/step - loss: 0.5635 - accuracy: 0.7458 - val_loss: 0.5472 - val_accuracy: 0.7500\n",
      "Epoch 10/50\n",
      "6/6 [==============================] - 10s 2s/step - loss: 0.5442 - accuracy: 0.7583 - val_loss: 0.5357 - val_accuracy: 0.7500\n",
      "Epoch 11/50\n",
      "6/6 [==============================] - 11s 2s/step - loss: 0.5341 - accuracy: 0.7458 - val_loss: 0.5228 - val_accuracy: 0.7667\n",
      "Epoch 12/50\n",
      "6/6 [==============================] - 11s 2s/step - loss: 0.5044 - accuracy: 0.7667 - val_loss: 0.5412 - val_accuracy: 0.7000\n",
      "Epoch 13/50\n",
      "6/6 [==============================] - 11s 2s/step - loss: 0.5536 - accuracy: 0.7333 - val_loss: 0.5793 - val_accuracy: 0.7167\n",
      "Epoch 14/50\n",
      "6/6 [==============================] - 11s 2s/step - loss: 0.5059 - accuracy: 0.7792 - val_loss: 0.5295 - val_accuracy: 0.7167\n",
      "Epoch 15/50\n",
      "6/6 [==============================] - 11s 2s/step - loss: 0.4815 - accuracy: 0.7958 - val_loss: 0.5129 - val_accuracy: 0.7667\n",
      "Epoch 16/50\n",
      "6/6 [==============================] - 11s 2s/step - loss: 0.4703 - accuracy: 0.8000 - val_loss: 0.5436 - val_accuracy: 0.7000\n",
      "Epoch 17/50\n",
      "6/6 [==============================] - 12s 2s/step - loss: 0.4688 - accuracy: 0.7708 - val_loss: 0.5134 - val_accuracy: 0.7667\n",
      "Epoch 18/50\n",
      "6/6 [==============================] - 12s 2s/step - loss: 0.4656 - accuracy: 0.8000 - val_loss: 0.5156 - val_accuracy: 0.7667\n",
      "Epoch 19/50\n",
      "6/6 [==============================] - 12s 2s/step - loss: 0.4502 - accuracy: 0.7875 - val_loss: 0.5619 - val_accuracy: 0.7167\n",
      "Epoch 20/50\n",
      "6/6 [==============================] - 11s 2s/step - loss: 0.4663 - accuracy: 0.7958 - val_loss: 0.5199 - val_accuracy: 0.8000\n",
      "Epoch 21/50\n",
      "6/6 [==============================] - 11s 2s/step - loss: 0.4464 - accuracy: 0.8167 - val_loss: 0.5202 - val_accuracy: 0.8000\n",
      "Epoch 22/50\n",
      "6/6 [==============================] - 13s 2s/step - loss: 0.4439 - accuracy: 0.8208 - val_loss: 0.5130 - val_accuracy: 0.8000\n",
      "Epoch 23/50\n",
      "6/6 [==============================] - 13s 2s/step - loss: 0.4365 - accuracy: 0.8167 - val_loss: 0.5170 - val_accuracy: 0.8167\n",
      "Epoch 24/50\n",
      "6/6 [==============================] - 12s 2s/step - loss: 0.4508 - accuracy: 0.7958 - val_loss: 0.5437 - val_accuracy: 0.7167\n",
      "Epoch 25/50\n",
      "6/6 [==============================] - 12s 2s/step - loss: 0.4235 - accuracy: 0.8292 - val_loss: 0.5102 - val_accuracy: 0.8000\n",
      "Epoch 26/50\n",
      "6/6 [==============================] - 13s 2s/step - loss: 0.4297 - accuracy: 0.8125 - val_loss: 0.5584 - val_accuracy: 0.7000\n",
      "Epoch 27/50\n",
      "6/6 [==============================] - 13s 2s/step - loss: 0.4298 - accuracy: 0.8167 - val_loss: 0.5259 - val_accuracy: 0.8000\n",
      "Epoch 28/50\n",
      "6/6 [==============================] - 13s 2s/step - loss: 0.4123 - accuracy: 0.8333 - val_loss: 0.5230 - val_accuracy: 0.8167\n",
      "Epoch 29/50\n",
      "6/6 [==============================] - 13s 2s/step - loss: 0.4172 - accuracy: 0.7917 - val_loss: 0.5466 - val_accuracy: 0.7333\n",
      "Epoch 30/50\n",
      "6/6 [==============================] - 12s 2s/step - loss: 0.4093 - accuracy: 0.8250 - val_loss: 0.5177 - val_accuracy: 0.8000\n",
      "Epoch 31/50\n",
      "6/6 [==============================] - 12s 2s/step - loss: 0.3927 - accuracy: 0.8125 - val_loss: 0.5654 - val_accuracy: 0.7333\n",
      "Epoch 32/50\n",
      "6/6 [==============================] - 12s 2s/step - loss: 0.3947 - accuracy: 0.8375 - val_loss: 0.5367 - val_accuracy: 0.7833\n",
      "Epoch 33/50\n",
      "6/6 [==============================] - 12s 2s/step - loss: 0.3802 - accuracy: 0.8417 - val_loss: 0.6297 - val_accuracy: 0.6833\n",
      "Epoch 34/50\n",
      "6/6 [==============================] - 12s 2s/step - loss: 0.4203 - accuracy: 0.8042 - val_loss: 0.5047 - val_accuracy: 0.8000\n",
      "Epoch 35/50\n",
      "6/6 [==============================] - 12s 2s/step - loss: 0.3829 - accuracy: 0.8208 - val_loss: 0.5883 - val_accuracy: 0.7167\n",
      "Epoch 36/50\n",
      "6/6 [==============================] - 12s 2s/step - loss: 0.3666 - accuracy: 0.8583 - val_loss: 0.5040 - val_accuracy: 0.8167\n",
      "Epoch 37/50\n",
      "6/6 [==============================] - 12s 2s/step - loss: 0.3826 - accuracy: 0.8208 - val_loss: 0.6336 - val_accuracy: 0.6833\n",
      "Epoch 38/50\n",
      "6/6 [==============================] - 13s 2s/step - loss: 0.3880 - accuracy: 0.8083 - val_loss: 0.5043 - val_accuracy: 0.8000\n",
      "Epoch 39/50\n",
      "6/6 [==============================] - 13s 2s/step - loss: 0.3671 - accuracy: 0.8208 - val_loss: 0.5777 - val_accuracy: 0.7500\n",
      "Epoch 40/50\n",
      "6/6 [==============================] - 13s 2s/step - loss: 0.3671 - accuracy: 0.7958 - val_loss: 0.4975 - val_accuracy: 0.8000\n",
      "Epoch 41/50\n",
      "6/6 [==============================] - 13s 2s/step - loss: 0.3530 - accuracy: 0.8500 - val_loss: 0.5322 - val_accuracy: 0.7667\n",
      "Epoch 42/50\n",
      "6/6 [==============================] - 12s 2s/step - loss: 0.3444 - accuracy: 0.8583 - val_loss: 0.5018 - val_accuracy: 0.8000\n",
      "Epoch 43/50\n",
      "6/6 [==============================] - 13s 2s/step - loss: 0.3525 - accuracy: 0.8500 - val_loss: 0.5045 - val_accuracy: 0.8000\n",
      "Epoch 44/50\n",
      "6/6 [==============================] - 13s 2s/step - loss: 0.3500 - accuracy: 0.8417 - val_loss: 0.5192 - val_accuracy: 0.7500\n",
      "Epoch 45/50\n",
      "6/6 [==============================] - 12s 2s/step - loss: 0.3359 - accuracy: 0.8417 - val_loss: 0.5853 - val_accuracy: 0.7500\n",
      "Epoch 46/50\n",
      "6/6 [==============================] - 12s 2s/step - loss: 0.3690 - accuracy: 0.8167 - val_loss: 0.5779 - val_accuracy: 0.7000\n",
      "Epoch 47/50\n",
      "6/6 [==============================] - 13s 2s/step - loss: 0.4350 - accuracy: 0.7625 - val_loss: 0.6747 - val_accuracy: 0.6667\n",
      "Epoch 48/50\n",
      "6/6 [==============================] - 12s 2s/step - loss: 0.3657 - accuracy: 0.8375 - val_loss: 0.4858 - val_accuracy: 0.8167\n",
      "Epoch 49/50\n",
      "6/6 [==============================] - 13s 2s/step - loss: 0.3135 - accuracy: 0.8750 - val_loss: 0.5623 - val_accuracy: 0.7833\n",
      "Epoch 50/50\n",
      "6/6 [==============================] - 13s 2s/step - loss: 0.3130 - accuracy: 0.8667 - val_loss: 0.4795 - val_accuracy: 0.8167\n"
     ]
    }
   ],
   "source": [
    "history = model.fit(train_generator,\n",
    "                    epochs=50,\n",
    "                    verbose=1,\n",
    "                    #callbacks=[callbacks],\n",
    "                    validation_data=validation_generator\n",
    "                   )"
   ]
  },
  {
   "cell_type": "markdown",
   "id": "de4449cf",
   "metadata": {
    "execution": {
     "iopub.execute_input": "2023-05-03T03:57:22.019289Z",
     "iopub.status.busy": "2023-05-03T03:57:22.018868Z",
     "iopub.status.idle": "2023-05-03T03:57:22.023244Z",
     "shell.execute_reply": "2023-05-03T03:57:22.022338Z",
     "shell.execute_reply.started": "2023-05-03T03:57:22.019220Z"
    },
    "papermill": {
     "duration": 0.010027,
     "end_time": "2023-05-03T04:49:04.687689",
     "exception": false,
     "start_time": "2023-05-03T04:49:04.677662",
     "status": "completed"
    },
    "tags": []
   },
   "source": [
    "### Training and  Accuracy  visualisation for cnn"
   ]
  },
  {
   "cell_type": "code",
   "execution_count": 13,
   "id": "c68be48d",
   "metadata": {
    "execution": {
     "iopub.execute_input": "2023-05-03T04:49:04.709683Z",
     "iopub.status.busy": "2023-05-03T04:49:04.708929Z",
     "iopub.status.idle": "2023-05-03T04:49:05.412575Z",
     "shell.execute_reply": "2023-05-03T04:49:05.411533Z"
    },
    "papermill": {
     "duration": 0.717054,
     "end_time": "2023-05-03T04:49:05.414791",
     "exception": false,
     "start_time": "2023-05-03T04:49:04.697737",
     "status": "completed"
    },
    "tags": []
   },
   "outputs": [
    {
     "data": {
      "text/plain": [
       "Text(0.5, 1.0, 'Training and validation loss')"
      ]
     },
     "execution_count": 13,
     "metadata": {},
     "output_type": "execute_result"
    },
    {
     "data": {
      "image/png": "[encoded data removed]",
      "text/plain": [
       "<Figure size 640x480 with 1 Axes>"
      ]
     },
     "metadata": {},
     "output_type": "display_data"
    },
    {
     "data": {
      "image/png": "[encoded data removed]",
      "text/plain": [
       "<Figure size 640x480 with 1 Axes>"
      ]
     },
     "metadata": {},
     "output_type": "display_data"
    }
   ],
   "source": [
    "#%matplotlib inline\n",
    "\n",
    "import matplotlib.pyplot as plt\n",
    "import matplotlib.image as mpimg\n",
    "\n",
    "# Retrieve a list of accuracy results on training and validation data\n",
    "# sets for each training epoch\n",
    "acc = history.history['accuracy']\n",
    "val_acc = history.history['val_accuracy']\n",
    "\n",
    "# Retrieve a list of list results on training and validation data\n",
    "# sets for each training epoch\n",
    "loss = history.history['loss']\n",
    "val_loss = history.history['val_loss']\n",
    "\n",
    "# Get number of epochs\n",
    "epochs = range(len(acc))\n",
    "\n",
    "# Plot training and validation accuracy per epoch\n",
    "plt.plot(epochs, acc,label=\"Training accuracy\")\n",
    "plt.plot(epochs, val_acc,label=\"validation accuracy\")\n",
    "plt.title('Training and validation accuracy')\n",
    "plt.legend()\n",
    "\n",
    "plt.figure()\n",
    "\n",
    "# Plot training and validation loss per epoch\n",
    "plt.plot(epochs, loss,label=\"Training loss\")\n",
    "plt.plot(epochs, val_loss,label=\"validation loss\")\n",
    "plt.legend()\n",
    "plt.title('Training and validation loss')"
   ]
  },
  {
   "cell_type": "code",
   "execution_count": 51,
   "id": "17cda369",
   "metadata": {},
   "outputs": [
    {
     "name": "stdout",
     "output_type": "stream",
     "text": [
      "12/12 [==============================] - 2s 125ms/step - loss: 0.4795 - accuracy: 0.8167\n",
      "6/6 [==============================] - 9s 2s/step - loss: 0.3126 - accuracy: 0.8458\n"
     ]
    },
    {
     "data": {
      "text/plain": [
       "[0.31258493661880493, 0.8458333611488342]"
      ]
     },
     "execution_count": 51,
     "metadata": {},
     "output_type": "execute_result"
    }
   ],
   "source": [
    "evaluate = model.evaluate(validation_generator)\n",
    "acc = evaluate[1]\n",
    "model.evaluate(train_generator)"
   ]
  },
  {
   "cell_type": "code",
   "execution_count": 50,
   "id": "e41edbcd",
   "metadata": {
    "execution": {
     "iopub.execute_input": "2023-05-03T04:49:05.439214Z",
     "iopub.status.busy": "2023-05-03T04:49:05.438942Z",
     "iopub.status.idle": "2023-05-03T04:49:05.631319Z",
     "shell.execute_reply": "2023-05-03T04:49:05.630431Z"
    },
    "papermill": {
     "duration": 0.207543,
     "end_time": "2023-05-03T04:49:05.634145",
     "exception": false,
     "start_time": "2023-05-03T04:49:05.426602",
     "status": "completed"
    },
    "tags": []
   },
   "outputs": [
    {
     "name": "stdout",
     "output_type": "stream",
     "text": [
      "6/6 [==============================] - 9s 1s/step - loss: 0.3190 - accuracy: 0.8458\n"
     ]
    }
   ],
   "source": [
    "from keras.models import Sequential, save_model, load_model\n",
    "save_model(model, 'Model/acc' +str(acc)+ '_0.2_ideal_detect_freshness_spinach.h5')\n",
    "#model = load_model('acc0.8333333134651184_0.2_ideal_detect_freshness_spinach.h5')\n",
    "evaluate = model.evaluate(train_generator)"
   ]
  },
  {
   "cell_type": "code",
   "execution_count": 30,
   "id": "54722b87",
   "metadata": {},
   "outputs": [
    {
     "name": "stdout",
     "output_type": "stream",
     "text": [
      "12/12 [==============================] - 2s 147ms/step\n"
     ]
    },
    {
     "data": {
      "text/plain": [
       "array([1, 0, 1, 0, 1, 0, 1, 0, 0, 1, 0, 0, 0, 0, 1, 1, 0, 1, 0, 1, 1, 0,\n",
       "       0, 1, 1, 1, 0, 0, 0, 1, 0, 1, 0, 0, 1, 1, 1, 1, 1, 1, 0, 1, 1, 0,\n",
       "       0, 0, 0, 0, 1, 1, 1, 0, 1, 0, 0, 0, 1, 1, 0, 0], dtype=int64)"
      ]
     },
     "execution_count": 30,
     "metadata": {},
     "output_type": "execute_result"
    }
   ],
   "source": [
    "#prediksi\n",
    "#melakukan prediksi dengan data uji\n",
    "#predicted class merupakan kelas output dari algoritma\n",
    "pred = model.predict(validation_generator)\n",
    "predicted_class = pred.argmax(axis=-1)\n",
    "predicted_class"
   ]
  },
  {
   "cell_type": "code",
   "execution_count": 31,
   "id": "f16d5e04",
   "metadata": {},
   "outputs": [
    {
     "data": {
      "text/plain": [
       "array([0, 0, 0, 0, 0, 0, 0, 0, 0, 0, 0, 0, 0, 0, 0, 0, 0, 0, 0, 0, 0, 0,\n",
       "       0, 0, 0, 0, 0, 0, 0, 0, 1, 1, 1, 1, 1, 1, 1, 1, 1, 1, 1, 1, 1, 1,\n",
       "       1, 1, 1, 1, 1, 1, 1, 1, 1, 1, 1, 1, 1, 1, 1, 1])"
      ]
     },
     "execution_count": 31,
     "metadata": {},
     "output_type": "execute_result"
    }
   ],
   "source": [
    "#true class merupakan kelas sebenarnya dari data uji\n",
    "true_class = validation_generator.classes\n",
    "#true_class = true_class.tolist()\n",
    "true_class"
   ]
  },
  {
   "cell_type": "code",
   "execution_count": 18,
   "id": "97a71fba",
   "metadata": {},
   "outputs": [],
   "source": [
    "def predict_one_image(test_dir):\n",
    "    pred = model.predict(test_generator)\n",
    "    predicted_class = pred.argmax(axis=-1)\n",
    "    if(predicted_class)==0:\n",
    "        print('The spinach is fresh')\n",
    "    else:\n",
    "        print('The spinach is not fresh')"
   ]
  },
  {
   "cell_type": "code",
   "execution_count": 46,
   "id": "6b2e9fbd",
   "metadata": {},
   "outputs": [
    {
     "name": "stdout",
     "output_type": "stream",
     "text": [
      "Found 1 images belonging to 1 classes.\n"
     ]
    }
   ],
   "source": [
    "#test_dir = 'Test_segar_dir/'\n",
    "#test_dir = 'Test_tidak_segar_dir/'\n",
    "#test_dir = 'Test_campur_dir/'\n",
    "test_dir = 'test_1'\n",
    "test_datagen = ImageDataGenerator(rescale = 1./255.)\n",
    "\n",
    "  # Pass in the appropriate arguments to the flow_from_directory method\n",
    "test_generator = validation_datagen.flow_from_directory(directory=test_dir,\n",
    "                                                                batch_size=5,\n",
    "                                                                class_mode='categorical',\n",
    "                                                                target_size=(150, 150))"
   ]
  },
  {
   "cell_type": "code",
   "execution_count": 47,
   "id": "f126e508",
   "metadata": {},
   "outputs": [
    {
     "name": "stdout",
     "output_type": "stream",
     "text": [
      "1/1 [==============================] - 0s 90ms/step\n",
      "1/1 [==============================] - 0s 90ms/step\n",
      "The spinach is not fresh\n"
     ]
    }
   ],
   "source": [
    "#prediksi\n",
    "#melakukan prediksi dengan data uji\n",
    "#predicted class merupakan kelas output dari algoritma\n",
    "pred = model.predict(test_generator)\n",
    "predicted_class = pred.argmax(axis=-1)\n",
    "predicted_class\n",
    "\n",
    "predict_one_image(test_generator)"
   ]
  },
  {
   "cell_type": "code",
   "execution_count": 32,
   "id": "38aacee8",
   "metadata": {},
   "outputs": [
    {
     "name": "stdout",
     "output_type": "stream",
     "text": [
      "              precision    recall  f1-score   support\n",
      "\n",
      "           0       0.52      0.53      0.52        30\n",
      "           1       0.52      0.50      0.51        30\n",
      "\n",
      "    accuracy                           0.52        60\n",
      "   macro avg       0.52      0.52      0.52        60\n",
      "weighted avg       0.52      0.52      0.52        60\n",
      "\n"
     ]
    }
   ],
   "source": [
    "#evaluasi\n",
    "from sklearn.metrics import classification_report\n",
    "print(classification_report(true_class, predicted_class))"
   ]
  },
  {
   "cell_type": "code",
   "execution_count": 41,
   "id": "25dde066",
   "metadata": {},
   "outputs": [
    {
     "name": "stdout",
     "output_type": "stream",
     "text": [
      "1/1 [==============================] - 0s 48ms/step\n",
      "Fresh Not spinach\n"
     ]
    },
    {
     "data": {
      "text/plain": [
       "array([[1., 0.]], dtype=float32)"
      ]
     },
     "execution_count": 41,
     "metadata": {},
     "output_type": "execute_result"
    }
   ],
   "source": [
    "from keras.preprocessing.image import ImageDataGenerator\n",
    "#from keras.preprocessing import image\n",
    "from tensorflow.keras.preprocessing import image\n",
    "import numpy as np\n",
    "from keras.models import Sequential, save_model, load_model\n",
    "#save_model(model, 'Model/acc' +str(acc)+ '_0.2_ideal_detect_freshn\n",
    "\n",
    "# Model in Production\n",
    "# Using google colab file system\n",
    "#uploaded = files.upload()\n",
    "\n",
    "#model = load_model('acc0.8833333253860474_0.2_(1)_of_detect_freshness_spinach.h5')\n",
    "  # Predicting Images\n",
    "path = \"test_1/only/spinach_not-fresh (8).jpeg\" \n",
    "path0 = 'test_0/only/fresh_spinach(3).jpg'\n",
    "img = image.load_img(path0, target_size=(150, 150))\n",
    "x = image.img_to_array(img)\n",
    "x = np.expand_dims(x, axis=0)\n",
    "\n",
    "images = np.vstack([x])\n",
    "classes = model.predict(images, batch_size=10)\n",
    "max = np.amax(classes[0])\n",
    "\n",
    "if (max == 0):\n",
    "    print('Fresh Spinach')\n",
    "else:\n",
    "    print('Fresh Not spinach')\n",
    "\n",
    "classes\n",
    "    "
   ]
  },
  {
   "cell_type": "markdown",
   "id": "1b87a51c",
   "metadata": {
    "papermill": {
     "duration": 0.011465,
     "end_time": "2023-05-03T04:49:05.657637",
     "exception": false,
     "start_time": "2023-05-03T04:49:05.646172",
     "status": "completed"
    },
    "tags": []
   },
   "source": [
    "### FCN"
   ]
  }
 ],
 "metadata": {
  "kernelspec": {
   "display_name": "Capstone Project",
   "language": "python",
   "name": "cp"
  },
  "language_info": {
   "codemirror_mode": {
    "name": "ipython",
    "version": 3
   },
   "file_extension": ".py",
   "mimetype": "text/x-python",
   "name": "python",
   "nbconvert_exporter": "python",
   "pygments_lexer": "ipython3",
   "version": "3.11.3"
  },
  "papermill": {
   "default_parameters": {},
   "duration": 1433.345399,
   "end_time": "2023-05-03T05:00:18.736513",
   "environment_variables": {},
   "exception": null,
   "input_path": "__notebook__.ipynb",
   "output_path": "__notebook__.ipynb",
   "parameters": {},
   "start_time": "2023-05-03T04:36:25.391114",
   "version": "2.4.0"
  }
 },
 "nbformat": 4,
 "nbformat_minor": 5
}
